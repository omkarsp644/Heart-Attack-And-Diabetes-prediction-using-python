{
  "nbformat": 4,
  "nbformat_minor": 0,
  "metadata": {
    "colab": {
      "name": "Untitled0.ipynb",
      "provenance": [],
      "authorship_tag": "ABX9TyPslRo7IRHn6N5i4zqO6Qpe",
      "include_colab_link": true
    },
    "kernelspec": {
      "name": "python3",
      "display_name": "Python 3"
    },
    "language_info": {
      "name": "python"
    },
    "accelerator": "GPU"
  },
  "cells": [
    {
      "cell_type": "markdown",
      "metadata": {
        "id": "view-in-github",
        "colab_type": "text"
      },
      "source": [
        "<a href=\"https://colab.research.google.com/github/omkarsp644/Heart-Attack-And-Diabetes-prediction-using-python/blob/master/RNN_Stock_Price_Prediction.ipynb\" target=\"_parent\"><img src=\"https://colab.research.google.com/assets/colab-badge.svg\" alt=\"Open In Colab\"/></a>"
      ]
    },
    {
      "cell_type": "code",
      "execution_count": 1,
      "metadata": {
        "colab": {
          "base_uri": "https://localhost:8080/"
        },
        "id": "d1G6nYr468mx",
        "outputId": "1910d27b-ccc5-45ee-a4f9-50df24141b16"
      },
      "outputs": [
        {
          "output_type": "stream",
          "name": "stdout",
          "text": [
            "Drive already mounted at /content/drive; to attempt to forcibly remount, call drive.mount(\"/content/drive\", force_remount=True).\n",
            "/content/drive/My Drive/Stock_Price_Prediction\n"
          ]
        }
      ],
      "source": [
        "from google.colab import drive\n",
        "drive.mount('/content/drive')\n",
        "%cd /content/drive/My Drive/Stock_Price_Prediction"
      ]
    },
    {
      "cell_type": "code",
      "source": [
        "import numpy as np\n",
        "import matplotlib.pyplot as plt\n",
        "plt.style.use('fivethirtyeight')\n",
        "import pandas as pd\n",
        "from sklearn.preprocessing import MinMaxScaler\n",
        "from keras.models import Sequential\n",
        "from keras.layers import Dense, LSTM, Dropout, GRU, Bidirectional\n",
        "from tensorflow.keras.optimizers import SGD\n",
        "import math\n",
        "from sklearn.metrics import mean_squared_error"
      ],
      "metadata": {
        "id": "i8FnmQVr6_zL"
      },
      "execution_count": 2,
      "outputs": []
    },
    {
      "cell_type": "code",
      "source": [
        "def plot_predictions(test,predicted):\n",
        "    plt.plot(test, color='red',label='Real IBM Stock Price')\n",
        "    plt.plot(predicted, color='blue',label='Predicted IBM Stock Price')\n",
        "    plt.title('IBM Stock Price Prediction')\n",
        "    plt.xlabel('Time')\n",
        "    plt.ylabel('IBM Stock Price')\n",
        "    plt.legend()\n",
        "    plt.show()\n",
        "\n",
        "def return_rmse(test,predicted):\n",
        "    rmse = math.sqrt(mean_squared_error(test, predicted))\n",
        "    print(\"The root mean squared error is {}.\".format(rmse))"
      ],
      "metadata": {
        "id": "tvVxSwtG7KWb"
      },
      "execution_count": 3,
      "outputs": []
    },
    {
      "cell_type": "code",
      "source": [
        "dataset = pd.read_csv('IBM_data.csv', index_col='Date', parse_dates=['Date'])\n",
        "dataset.head()"
      ],
      "metadata": {
        "colab": {
          "base_uri": "https://localhost:8080/",
          "height": 238
        },
        "id": "z0KYeCfG7MHC",
        "outputId": "21c67047-27d1-452e-ce09-b7939afab074"
      },
      "execution_count": 4,
      "outputs": [
        {
          "output_type": "execute_result",
          "data": {
            "text/html": [
              "\n",
              "  <div id=\"df-3af363ae-2e1b-4599-8c78-e06e7c1fa7a4\">\n",
              "    <div class=\"colab-df-container\">\n",
              "      <div>\n",
              "<style scoped>\n",
              "    .dataframe tbody tr th:only-of-type {\n",
              "        vertical-align: middle;\n",
              "    }\n",
              "\n",
              "    .dataframe tbody tr th {\n",
              "        vertical-align: top;\n",
              "    }\n",
              "\n",
              "    .dataframe thead th {\n",
              "        text-align: right;\n",
              "    }\n",
              "</style>\n",
              "<table border=\"1\" class=\"dataframe\">\n",
              "  <thead>\n",
              "    <tr style=\"text-align: right;\">\n",
              "      <th></th>\n",
              "      <th>Open</th>\n",
              "      <th>High</th>\n",
              "      <th>Low</th>\n",
              "      <th>Close</th>\n",
              "      <th>Volume</th>\n",
              "      <th>Name</th>\n",
              "    </tr>\n",
              "    <tr>\n",
              "      <th>Date</th>\n",
              "      <th></th>\n",
              "      <th></th>\n",
              "      <th></th>\n",
              "      <th></th>\n",
              "      <th></th>\n",
              "      <th></th>\n",
              "    </tr>\n",
              "  </thead>\n",
              "  <tbody>\n",
              "    <tr>\n",
              "      <th>2006-01-03</th>\n",
              "      <td>82.45</td>\n",
              "      <td>82.55</td>\n",
              "      <td>80.81</td>\n",
              "      <td>82.06</td>\n",
              "      <td>11715200</td>\n",
              "      <td>IBM</td>\n",
              "    </tr>\n",
              "    <tr>\n",
              "      <th>2006-01-04</th>\n",
              "      <td>82.20</td>\n",
              "      <td>82.50</td>\n",
              "      <td>81.33</td>\n",
              "      <td>81.95</td>\n",
              "      <td>9840600</td>\n",
              "      <td>IBM</td>\n",
              "    </tr>\n",
              "    <tr>\n",
              "      <th>2006-01-05</th>\n",
              "      <td>81.40</td>\n",
              "      <td>82.90</td>\n",
              "      <td>81.00</td>\n",
              "      <td>82.50</td>\n",
              "      <td>7213500</td>\n",
              "      <td>IBM</td>\n",
              "    </tr>\n",
              "    <tr>\n",
              "      <th>2006-01-06</th>\n",
              "      <td>83.95</td>\n",
              "      <td>85.03</td>\n",
              "      <td>83.41</td>\n",
              "      <td>84.95</td>\n",
              "      <td>8197400</td>\n",
              "      <td>IBM</td>\n",
              "    </tr>\n",
              "    <tr>\n",
              "      <th>2006-01-09</th>\n",
              "      <td>84.10</td>\n",
              "      <td>84.25</td>\n",
              "      <td>83.38</td>\n",
              "      <td>83.73</td>\n",
              "      <td>6858200</td>\n",
              "      <td>IBM</td>\n",
              "    </tr>\n",
              "  </tbody>\n",
              "</table>\n",
              "</div>\n",
              "      <button class=\"colab-df-convert\" onclick=\"convertToInteractive('df-3af363ae-2e1b-4599-8c78-e06e7c1fa7a4')\"\n",
              "              title=\"Convert this dataframe to an interactive table.\"\n",
              "              style=\"display:none;\">\n",
              "        \n",
              "  <svg xmlns=\"http://www.w3.org/2000/svg\" height=\"24px\"viewBox=\"0 0 24 24\"\n",
              "       width=\"24px\">\n",
              "    <path d=\"M0 0h24v24H0V0z\" fill=\"none\"/>\n",
              "    <path d=\"M18.56 5.44l.94 2.06.94-2.06 2.06-.94-2.06-.94-.94-2.06-.94 2.06-2.06.94zm-11 1L8.5 8.5l.94-2.06 2.06-.94-2.06-.94L8.5 2.5l-.94 2.06-2.06.94zm10 10l.94 2.06.94-2.06 2.06-.94-2.06-.94-.94-2.06-.94 2.06-2.06.94z\"/><path d=\"M17.41 7.96l-1.37-1.37c-.4-.4-.92-.59-1.43-.59-.52 0-1.04.2-1.43.59L10.3 9.45l-7.72 7.72c-.78.78-.78 2.05 0 2.83L4 21.41c.39.39.9.59 1.41.59.51 0 1.02-.2 1.41-.59l7.78-7.78 2.81-2.81c.8-.78.8-2.07 0-2.86zM5.41 20L4 18.59l7.72-7.72 1.47 1.35L5.41 20z\"/>\n",
              "  </svg>\n",
              "      </button>\n",
              "      \n",
              "  <style>\n",
              "    .colab-df-container {\n",
              "      display:flex;\n",
              "      flex-wrap:wrap;\n",
              "      gap: 12px;\n",
              "    }\n",
              "\n",
              "    .colab-df-convert {\n",
              "      background-color: #E8F0FE;\n",
              "      border: none;\n",
              "      border-radius: 50%;\n",
              "      cursor: pointer;\n",
              "      display: none;\n",
              "      fill: #1967D2;\n",
              "      height: 32px;\n",
              "      padding: 0 0 0 0;\n",
              "      width: 32px;\n",
              "    }\n",
              "\n",
              "    .colab-df-convert:hover {\n",
              "      background-color: #E2EBFA;\n",
              "      box-shadow: 0px 1px 2px rgba(60, 64, 67, 0.3), 0px 1px 3px 1px rgba(60, 64, 67, 0.15);\n",
              "      fill: #174EA6;\n",
              "    }\n",
              "\n",
              "    [theme=dark] .colab-df-convert {\n",
              "      background-color: #3B4455;\n",
              "      fill: #D2E3FC;\n",
              "    }\n",
              "\n",
              "    [theme=dark] .colab-df-convert:hover {\n",
              "      background-color: #434B5C;\n",
              "      box-shadow: 0px 1px 3px 1px rgba(0, 0, 0, 0.15);\n",
              "      filter: drop-shadow(0px 1px 2px rgba(0, 0, 0, 0.3));\n",
              "      fill: #FFFFFF;\n",
              "    }\n",
              "  </style>\n",
              "\n",
              "      <script>\n",
              "        const buttonEl =\n",
              "          document.querySelector('#df-3af363ae-2e1b-4599-8c78-e06e7c1fa7a4 button.colab-df-convert');\n",
              "        buttonEl.style.display =\n",
              "          google.colab.kernel.accessAllowed ? 'block' : 'none';\n",
              "\n",
              "        async function convertToInteractive(key) {\n",
              "          const element = document.querySelector('#df-3af363ae-2e1b-4599-8c78-e06e7c1fa7a4');\n",
              "          const dataTable =\n",
              "            await google.colab.kernel.invokeFunction('convertToInteractive',\n",
              "                                                     [key], {});\n",
              "          if (!dataTable) return;\n",
              "\n",
              "          const docLinkHtml = 'Like what you see? Visit the ' +\n",
              "            '<a target=\"_blank\" href=https://colab.research.google.com/notebooks/data_table.ipynb>data table notebook</a>'\n",
              "            + ' to learn more about interactive tables.';\n",
              "          element.innerHTML = '';\n",
              "          dataTable['output_type'] = 'display_data';\n",
              "          await google.colab.output.renderOutput(dataTable, element);\n",
              "          const docLink = document.createElement('div');\n",
              "          docLink.innerHTML = docLinkHtml;\n",
              "          element.appendChild(docLink);\n",
              "        }\n",
              "      </script>\n",
              "    </div>\n",
              "  </div>\n",
              "  "
            ],
            "text/plain": [
              "             Open   High    Low  Close    Volume Name\n",
              "Date                                                 \n",
              "2006-01-03  82.45  82.55  80.81  82.06  11715200  IBM\n",
              "2006-01-04  82.20  82.50  81.33  81.95   9840600  IBM\n",
              "2006-01-05  81.40  82.90  81.00  82.50   7213500  IBM\n",
              "2006-01-06  83.95  85.03  83.41  84.95   8197400  IBM\n",
              "2006-01-09  84.10  84.25  83.38  83.73   6858200  IBM"
            ]
          },
          "metadata": {},
          "execution_count": 4
        }
      ]
    },
    {
      "cell_type": "code",
      "source": [
        "\n",
        "\n",
        "training_set = dataset[:'2016'].iloc[:,1:2].values\n",
        "test_set = dataset['2017':].iloc[:,1:2].values\n",
        "\n",
        "print(training_set[0])\n",
        "\n",
        "print(test_set[0])\n",
        "\n"
      ],
      "metadata": {
        "colab": {
          "base_uri": "https://localhost:8080/"
        },
        "id": "Fvl0jn5J7N7I",
        "outputId": "619cb23a-7af8-4c8b-b9d9-0cee2eff3726"
      },
      "execution_count": 5,
      "outputs": [
        {
          "output_type": "stream",
          "name": "stdout",
          "text": [
            "[82.55]\n",
            "[167.87]\n"
          ]
        }
      ]
    },
    {
      "cell_type": "code",
      "source": [
        "dataset[\"High\"][:'2016'].plot(figsize=(16,4),legend=True)\n",
        "dataset[\"High\"]['2017':].plot(figsize=(16,4),legend=True)\n",
        "plt.legend(['Training set (Before 2017)','Test set (2017 and beyond)'])\n",
        "plt.title('IBM stock price')\n",
        "plt.show()\n"
      ],
      "metadata": {
        "colab": {
          "base_uri": "https://localhost:8080/",
          "height": 303
        },
        "id": "528ZUJX67Pj9",
        "outputId": "c2ae7059-9266-45a0-d20b-886251ede213"
      },
      "execution_count": 7,
      "outputs": [
        {
          "output_type": "display_data",
          "data": {
            "image/png": "[encoded data removed]",
            "text/plain": [
              "<Figure size 1152x288 with 1 Axes>"
            ]
          },
          "metadata": {}
        }
      ]
    },
    {
      "cell_type": "code",
      "source": [
        "sc = MinMaxScaler(feature_range=(0,1))\n",
        "training_set_scaled = sc.fit_transform(training_set)"
      ],
      "metadata": {
        "id": "_3X3G8fG7Rhs"
      },
      "execution_count": 8,
      "outputs": []
    },
    {
      "cell_type": "code",
      "source": [
        "X_train = []\n",
        "y_train = []\n",
        "for i in range(60,2769):\n",
        "    X_train.append(training_set_scaled[i-60:i,0])\n",
        "    y_train.append(training_set_scaled[i,0])\n",
        "X_train, y_train = np.array(X_train), np.array(y_train)"
      ],
      "metadata": {
        "id": "xvx0a71E7UE_"
      },
      "execution_count": 9,
      "outputs": []
    },
    {
      "cell_type": "code",
      "source": [
        "X_train = np.reshape(X_train, (X_train.shape[0],X_train.shape[1],1))"
      ],
      "metadata": {
        "id": "7JRPtFc67W7l"
      },
      "execution_count": 10,
      "outputs": []
    },
    {
      "cell_type": "code",
      "source": [
        "regressor = Sequential()\n",
        "# First LSTM layer with Dropout regularisation\n",
        "regressor.add(LSTM(units=50, return_sequences=True, input_shape=(X_train.shape[1],1)))\n",
        "regressor.add(Dropout(0.2))\n",
        "# Second LSTM layer\n",
        "regressor.add(LSTM(units=50, return_sequences=True))\n",
        "regressor.add(Dropout(0.2))\n",
        "# Third LSTM layer\n",
        "regressor.add(LSTM(units=50, return_sequences=True))\n",
        "regressor.add(Dropout(0.2))\n",
        "# Fourth LSTM layer\n",
        "regressor.add(LSTM(units=50))\n",
        "regressor.add(Dropout(0.2))\n",
        "# The output layer\n",
        "regressor.add(Dense(units=1))\n",
        "\n",
        "# Compiling the RNN\n",
        "regressor.compile(optimizer='rmsprop',loss='mean_squared_error')\n",
        "# Fitting to the training set\n",
        "regressor.fit(X_train,y_train,epochs=50,batch_size=32)"
      ],
      "metadata": {
        "colab": {
          "base_uri": "https://localhost:8080/"
        },
        "id": "q_DHmaEW7YiN",
        "outputId": "86aba118-1931-4532-dadf-bf631acb4535"
      },
      "execution_count": 10,
      "outputs": [
        {
          "output_type": "stream",
          "name": "stdout",
          "text": [
            "Epoch 1/50\n",
            "85/85 [==============================] - 17s 63ms/step - loss: 0.0207\n",
            "Epoch 2/50\n",
            "85/85 [==============================] - 5s 63ms/step - loss: 0.0103\n",
            "Epoch 3/50\n",
            "85/85 [==============================] - 5s 63ms/step - loss: 0.0083\n",
            "Epoch 4/50\n",
            "85/85 [==============================] - 5s 63ms/step - loss: 0.0071\n",
            "Epoch 5/50\n",
            "85/85 [==============================] - 5s 63ms/step - loss: 0.0061\n",
            "Epoch 6/50\n",
            "85/85 [==============================] - 6s 66ms/step - loss: 0.0054\n",
            "Epoch 7/50\n",
            "85/85 [==============================] - 6s 68ms/step - loss: 0.0047\n",
            "Epoch 8/50\n",
            "85/85 [==============================] - 6s 67ms/step - loss: 0.0046\n",
            "Epoch 9/50\n",
            "85/85 [==============================] - 6s 67ms/step - loss: 0.0040\n",
            "Epoch 10/50\n",
            "85/85 [==============================] - 6s 66ms/step - loss: 0.0037\n",
            "Epoch 11/50\n",
            "85/85 [==============================] - 6s 69ms/step - loss: 0.0036\n",
            "Epoch 12/50\n",
            "85/85 [==============================] - 6s 66ms/step - loss: 0.0034\n",
            "Epoch 13/50\n",
            "85/85 [==============================] - 6s 66ms/step - loss: 0.0034\n",
            "Epoch 14/50\n",
            "85/85 [==============================] - 5s 63ms/step - loss: 0.0032\n",
            "Epoch 15/50\n",
            "85/85 [==============================] - 5s 63ms/step - loss: 0.0032\n",
            "Epoch 16/50\n",
            "85/85 [==============================] - 5s 63ms/step - loss: 0.0028\n",
            "Epoch 17/50\n",
            "85/85 [==============================] - 5s 63ms/step - loss: 0.0029\n",
            "Epoch 18/50\n",
            "85/85 [==============================] - 5s 64ms/step - loss: 0.0028\n",
            "Epoch 19/50\n",
            "85/85 [==============================] - 5s 63ms/step - loss: 0.0026\n",
            "Epoch 20/50\n",
            "85/85 [==============================] - 5s 63ms/step - loss: 0.0026\n",
            "Epoch 21/50\n",
            "85/85 [==============================] - 5s 63ms/step - loss: 0.0025\n",
            "Epoch 22/50\n",
            "85/85 [==============================] - 5s 63ms/step - loss: 0.0025\n",
            "Epoch 23/50\n",
            "85/85 [==============================] - 5s 63ms/step - loss: 0.0022\n",
            "Epoch 24/50\n",
            "85/85 [==============================] - 5s 63ms/step - loss: 0.0023\n",
            "Epoch 25/50\n",
            "85/85 [==============================] - 5s 63ms/step - loss: 0.0022\n",
            "Epoch 26/50\n",
            "85/85 [==============================] - 5s 64ms/step - loss: 0.0020\n",
            "Epoch 27/50\n",
            "85/85 [==============================] - 5s 63ms/step - loss: 0.0021\n",
            "Epoch 28/50\n",
            "85/85 [==============================] - 5s 63ms/step - loss: 0.0020\n",
            "Epoch 29/50\n",
            "85/85 [==============================] - 5s 63ms/step - loss: 0.0020\n",
            "Epoch 30/50\n",
            "85/85 [==============================] - 5s 63ms/step - loss: 0.0021\n",
            "Epoch 31/50\n",
            "85/85 [==============================] - 6s 65ms/step - loss: 0.0019\n",
            "Epoch 32/50\n",
            "85/85 [==============================] - 5s 64ms/step - loss: 0.0018\n",
            "Epoch 33/50\n",
            "85/85 [==============================] - 5s 63ms/step - loss: 0.0018\n",
            "Epoch 34/50\n",
            "85/85 [==============================] - 5s 64ms/step - loss: 0.0018\n",
            "Epoch 35/50\n",
            "85/85 [==============================] - 5s 63ms/step - loss: 0.0017\n",
            "Epoch 36/50\n",
            "85/85 [==============================] - 5s 63ms/step - loss: 0.0017\n",
            "Epoch 37/50\n",
            "85/85 [==============================] - 5s 63ms/step - loss: 0.0017\n",
            "Epoch 38/50\n",
            "85/85 [==============================] - 5s 63ms/step - loss: 0.0018\n",
            "Epoch 39/50\n",
            "85/85 [==============================] - 5s 63ms/step - loss: 0.0016\n",
            "Epoch 40/50\n",
            "85/85 [==============================] - 5s 63ms/step - loss: 0.0016\n",
            "Epoch 41/50\n",
            "85/85 [==============================] - 5s 63ms/step - loss: 0.0017\n",
            "Epoch 42/50\n",
            "85/85 [==============================] - 5s 63ms/step - loss: 0.0016\n",
            "Epoch 43/50\n",
            "85/85 [==============================] - 5s 63ms/step - loss: 0.0016\n",
            "Epoch 44/50\n",
            "85/85 [==============================] - 5s 63ms/step - loss: 0.0015\n",
            "Epoch 45/50\n",
            "85/85 [==============================] - 5s 63ms/step - loss: 0.0016\n",
            "Epoch 46/50\n",
            "85/85 [==============================] - 5s 65ms/step - loss: 0.0015\n",
            "Epoch 47/50\n",
            "85/85 [==============================] - 5s 63ms/step - loss: 0.0014\n",
            "Epoch 48/50\n",
            "85/85 [==============================] - 5s 63ms/step - loss: 0.0015\n",
            "Epoch 49/50\n",
            "85/85 [==============================] - 5s 64ms/step - loss: 0.0014\n",
            "Epoch 50/50\n",
            "85/85 [==============================] - 5s 63ms/step - loss: 0.0015\n"
          ]
        },
        {
          "output_type": "execute_result",
          "data": {
            "text/plain": [
              "<keras.callbacks.History at 0x7f8f3036aad0>"
            ]
          },
          "metadata": {},
          "execution_count": 10
        }
      ]
    },
    {
      "cell_type": "code",
      "source": [
        "# Now to get the test set ready in a similar way as the training set.\n",
        "# The following has been done so forst 60 entires of test set have 60 previous values which is impossible to get unless we take the whole \n",
        "# 'High' attribute data for processing\n",
        "dataset_total = pd.concat((dataset[\"High\"][:'2016'],dataset[\"High\"]['2017':]),axis=0)\n",
        "inputs = dataset_total[len(dataset_total)-len(test_set) - 60:].values\n",
        "inputs = inputs.reshape(-1,1)\n",
        "inputs  = sc.transform(inputs)"
      ],
      "metadata": {
        "id": "-IpPFkvF79u7"
      },
      "execution_count": 11,
      "outputs": []
    },
    {
      "cell_type": "code",
      "source": [
        "X_test = []\n",
        "for i in range(60,311):\n",
        "    X_test.append(inputs[i-60:i,0])\n",
        "X_test = np.array(X_test)\n",
        "X_test = np.reshape(X_test, (X_test.shape[0],X_test.shape[1],1))\n",
        "predicted_stock_price = regressor.predict(X_test)\n",
        "predicted_stock_price = sc.inverse_transform(predicted_stock_price)"
      ],
      "metadata": {
        "id": "mxPPov0O8YzF"
      },
      "execution_count": 12,
      "outputs": []
    },
    {
      "cell_type": "code",
      "source": [
        "plot_predictions(test_set,predicted_stock_price)"
      ],
      "metadata": {
        "colab": {
          "base_uri": "https://localhost:8080/",
          "height": 325
        },
        "id": "JvHwuBtX8beQ",
        "outputId": "f82a9dbc-5b87-4aac-8a61-1386a502d1dd"
      },
      "execution_count": 13,
      "outputs": [
        {
          "output_type": "display_data",
          "data": {
            "image/png": "[encoded data removed]",
            "text/plain": [
              "<Figure size 432x288 with 1 Axes>"
            ]
          },
          "metadata": {}
        }
      ]
    },
    {
      "cell_type": "code",
      "source": [
        "return_rmse(test_set,predicted_stock_price)"
      ],
      "metadata": {
        "colab": {
          "base_uri": "https://localhost:8080/"
        },
        "id": "VC6Pmr4t8dXq",
        "outputId": "4f7137be-6fc7-4c36-f430-1cd5449e0d9f"
      },
      "execution_count": 14,
      "outputs": [
        {
          "output_type": "stream",
          "name": "stdout",
          "text": [
            "The root mean squared error is 2.370078037138702.\n"
          ]
        }
      ]
    },
    {
      "cell_type": "code",
      "source": [
        ""
      ],
      "metadata": {
        "id": "s4ncykXE8fHx"
      },
      "execution_count": 16,
      "outputs": []
    },
    {
      "cell_type": "code",
      "source": [
        "X_train[0], y_train[0]"
      ],
      "metadata": {
        "colab": {
          "base_uri": "https://localhost:8080/"
        },
        "id": "l83MTH7b9f-8",
        "outputId": "79cc7add-e948-4e61-efb7-09433bf65eb8"
      },
      "execution_count": 21,
      "outputs": [
        {
          "output_type": "execute_result",
          "data": {
            "text/plain": [
              "(array([[0.06065089],\n",
              "        [0.06029868],\n",
              "        [0.06311637],\n",
              "        [0.0781206 ],\n",
              "        [0.07262609],\n",
              "        [0.07171034],\n",
              "        [0.07657087],\n",
              "        [0.07058326],\n",
              "        [0.0669907 ],\n",
              "        [0.06494787],\n",
              "        [0.075796  ],\n",
              "        [0.07361229],\n",
              "        [0.06417301],\n",
              "        [0.05621302],\n",
              "        [0.05783319],\n",
              "        [0.05409975],\n",
              "        [0.05431107],\n",
              "        [0.05515638],\n",
              "        [0.05543815],\n",
              "        [0.05677656],\n",
              "        [0.05846717],\n",
              "        [0.05388842],\n",
              "        [0.04811214],\n",
              "        [0.04233587],\n",
              "        [0.04402649],\n",
              "        [0.0490279 ],\n",
              "        [0.04832347],\n",
              "        [0.05297267],\n",
              "        [0.05614258],\n",
              "        [0.05290223],\n",
              "        [0.05325444],\n",
              "        [0.04909834],\n",
              "        [0.04994365],\n",
              "        [0.04797126],\n",
              "        [0.05431107],\n",
              "        [0.05212736],\n",
              "        [0.04726684],\n",
              "        [0.04895745],\n",
              "        [0.04656241],\n",
              "        [0.04839391],\n",
              "        [0.04416737],\n",
              "        [0.0485348 ],\n",
              "        [0.04719639],\n",
              "        [0.04825303],\n",
              "        [0.05395886],\n",
              "        [0.05663567],\n",
              "        [0.05853762],\n",
              "        [0.05959425],\n",
              "        [0.06375035],\n",
              "        [0.06917442],\n",
              "        [0.06889265],\n",
              "        [0.06670893],\n",
              "        [0.06910397],\n",
              "        [0.07783883],\n",
              "        [0.07565511],\n",
              "        [0.07276698],\n",
              "        [0.06889265],\n",
              "        [0.0656523 ],\n",
              "        [0.06656805],\n",
              "        [0.06769513]]), 0.06875176105945335)"
            ]
          },
          "metadata": {},
          "execution_count": 21
        }
      ]
    },
    {
      "cell_type": "code",
      "source": [
        ""
      ],
      "metadata": {
        "id": "nydG4_n1-DXP"
      },
      "execution_count": null,
      "outputs": []
    }
  ]
}